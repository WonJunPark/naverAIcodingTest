{
  "nbformat": 4,
  "nbformat_minor": 0,
  "metadata": {
    "colab": {
      "name": "naverAIcodingTest.ipynb",
      "provenance": [],
      "collapsed_sections": [],
      "toc_visible": true,
      "include_colab_link": true
    },
    "kernelspec": {
      "display_name": "Python 3",
      "name": "python3"
    }
  },
  "cells": [
    {
      "cell_type": "markdown",
      "metadata": {
        "id": "view-in-github",
        "colab_type": "text"
      },
      "source": [
        "<a href=\"https://colab.research.google.com/github/WonJunPark/naverAIcodingTest/blob/master/naverAIcodingTest.ipynb\" target=\"_parent\"><img src=\"https://colab.research.google.com/assets/colab-badge.svg\" alt=\"Open In Colab\"/></a>"
      ]
    },
    {
      "cell_type": "code",
      "metadata": {
        "id": "7Jp_OJVZW2GC",
        "colab_type": "code",
        "colab": {}
      },
      "source": [
        "def solution(A, B):\n",
        "    m = A*B\n",
        "    bin_m = bin(m)\n",
        "    bin_m"
      ],
      "execution_count": 0,
      "outputs": []
    },
    {
      "cell_type": "code",
      "metadata": {
        "id": "ml5M1YkkW2IH",
        "colab_type": "code",
        "outputId": "3dd081e9-b99a-4b30-d4b8-3b0552fe32a1",
        "colab": {
          "base_uri": "https://localhost:8080/",
          "height": 34
        }
      },
      "source": [
        "A = 3\n",
        "B = 7\n",
        "m = A*B\n",
        "bin_m = bin(m)\n",
        "c = bin_m[2:]\n",
        "total = 0\n",
        "for i in c:\n",
        "  if int(i) == 1:\n",
        "    total += 1\n",
        "total"
      ],
      "execution_count": 0,
      "outputs": [
        {
          "output_type": "execute_result",
          "data": {
            "text/plain": [
              "3"
            ]
          },
          "metadata": {
            "tags": []
          },
          "execution_count": 14
        }
      ]
    },
    {
      "cell_type": "code",
      "metadata": {
        "id": "h1OpeKHBW2J_",
        "colab_type": "code",
        "outputId": "c49e5d7e-8ffa-4175-8b20-c60650920a70",
        "colab": {
          "base_uri": "https://localhost:8080/",
          "height": 34
        }
      },
      "source": [
        "A = ['abc', 'yyy', 'def', 'csv']\n",
        "B = []\n",
        "\n",
        "#중복 문자열 제거\n",
        "for i in A:\n",
        "  if len(set(i)) == len(i):\n",
        "    B.append(i)\n",
        "\n",
        "C = \"\"\n",
        "#겹치는지 확인\n",
        "for i in range(len(B)): # 0,1,2\n",
        "  n = 0\n",
        "  for j in range(len(B[i])): # \"a,b,c\"\n",
        "    if B[i][j] in C:\n",
        "      n += 1\n",
        "  if n == 0:\n",
        "    C += B[i]\n",
        "\n",
        "len(C)"
      ],
      "execution_count": 0,
      "outputs": [
        {
          "output_type": "execute_result",
          "data": {
            "text/plain": [
              "6"
            ]
          },
          "metadata": {
            "tags": []
          },
          "execution_count": 44
        }
      ]
    },
    {
      "cell_type": "code",
      "metadata": {
        "id": "nTI5hnktW2L7",
        "colab_type": "code",
        "colab": {}
      },
      "source": [
        "def test(s):\n",
        "\n",
        "  result = []\n",
        "  \n",
        "  #역순 받기\n",
        "  r = s[::-1]\n",
        "\n",
        "  for i in range(len(s)):\n",
        "    if s[i] == \"?\" and r[i] != \"?\":\n",
        "      result.append(r[i])\n",
        "    elif s[i] != \"?\" and r[i] == \"?\":\n",
        "      result.append(s[i])\n",
        "    elif s[i] == \"?\" and r[i] == \"?\":\n",
        "      result.append(\"a\")\n",
        "    else:\n",
        "      result.append(s[i])\n",
        "\n",
        "  s_result = \"\"\n",
        "  for i in result:\n",
        "    s_result += i\n",
        "\n",
        "  if s_result != s_result[::-1]:\n",
        "    return 'NO'\n",
        "\n",
        "  return s_result"
      ],
      "execution_count": 0,
      "outputs": []
    },
    {
      "cell_type": "code",
      "metadata": {
        "id": "A9FDmZiDW2OV",
        "colab_type": "code",
        "outputId": "9218f5cc-4507-4908-daef-f0be5e4f23c4",
        "colab": {
          "base_uri": "https://localhost:8080/",
          "height": 34
        }
      },
      "source": [
        "s = \"bab??a\" #aabbaa\n",
        "test(s)"
      ],
      "execution_count": 0,
      "outputs": [
        {
          "output_type": "execute_result",
          "data": {
            "text/plain": [
              "'NO'"
            ]
          },
          "metadata": {
            "tags": []
          },
          "execution_count": 82
        }
      ]
    },
    {
      "cell_type": "code",
      "metadata": {
        "id": "VHCgqa6Jl6vE",
        "colab_type": "code",
        "colab": {}
      },
      "source": [
        ""
      ],
      "execution_count": 0,
      "outputs": []
    }
  ]
}